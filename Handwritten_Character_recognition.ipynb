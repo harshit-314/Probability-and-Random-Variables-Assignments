{
  "nbformat": 4,
  "nbformat_minor": 0,
  "metadata": {
    "colab": {
      "provenance": []
    },
    "kernelspec": {
      "name": "python3",
      "display_name": "Python 3"
    },
    "language_info": {
      "name": "python"
    }
  },
  "cells": [
    {
      "cell_type": "markdown",
      "source": [
        "Importing Libraries"
      ],
      "metadata": {
        "id": "X2iE1uG3sZL6"
      }
    },
    {
      "cell_type": "code",
      "source": [
        "import numpy as np\n",
        "import matplotlib.pyplot as plt"
      ],
      "metadata": {
        "id": "n0ZTjL3kseqe"
      },
      "execution_count": null,
      "outputs": []
    },
    {
      "cell_type": "markdown",
      "source": [
        "Making the corpus of 0's in necessary format."
      ],
      "metadata": {
        "id": "hp0Nzf75vlFu"
      }
    },
    {
      "cell_type": "code",
      "source": [
        "l0=[] # Stores the corpus of 0's\n",
        "\n",
        "a1 = \"0110010101110000\"\n",
        "a2 = \"0000011100110000\"\n",
        "a3 = \"0000011001100110\"\n",
        "a4 = \"0111100110010111\"\n",
        "a5 = \"0110011001100000\"\n",
        "a6 = \"0011010101010110\"\n",
        "a7 = \"0000011101010111\"\n",
        "a8 = \"1110100110011111\"\n",
        "a9 = \"1110101011101100\"\n",
        "a10 = \"0110100110010110\"\n",
        "\n",
        "l0.append([*a1])\n",
        "l0.append([*a2])\n",
        "l0.append([*a3])\n",
        "l0.append([*a4])\n",
        "l0.append([*a5])\n",
        "l0.append([*a6])\n",
        "l0.append([*a7])\n",
        "l0.append([*a8])\n",
        "l0.append([*a9])\n",
        "l0.append([*a10])"
      ],
      "metadata": {
        "id": "Nyw8m1adu87M"
      },
      "execution_count": null,
      "outputs": []
    },
    {
      "cell_type": "markdown",
      "source": [
        "Making the corpus of 1's in necessary format."
      ],
      "metadata": {
        "id": "HKxn4Zv4knrd"
      }
    },
    {
      "cell_type": "code",
      "source": [
        "l1 = [] # Stores the corpus of 1's\n",
        "\n",
        "b1 = \"0010001000100010\"\n",
        "b2 = \"0110001001110000\"\n",
        "b3 = \"0010010001000100\"\n",
        "b4 = \"0111001000111100\"\n",
        "b5 = \"0001000100110010\"\n",
        "b6 = \"0100010001000100\"\n",
        "b7 = \"0010011001100000\"\n",
        "b8 = \"0010011001000000\"\n",
        "b9 = \"0000000100010001\"\n",
        "b10 = \"1110110011100000\"\n",
        "\n",
        "l1.append([*b1])\n",
        "l1.append([*b2])\n",
        "l1.append([*b3])\n",
        "l1.append([*b4])\n",
        "l1.append([*b5])\n",
        "l1.append([*b6])\n",
        "l1.append([*b7])\n",
        "l1.append([*b8])\n",
        "l1.append([*b9])\n",
        "l1.append([*b10])"
      ],
      "metadata": {
        "id": "XYDzKIuPksK7"
      },
      "execution_count": null,
      "outputs": []
    },
    {
      "cell_type": "markdown",
      "source": [
        "Calculating P(Wi|0) = 1 and P(Wi|1) = 1"
      ],
      "metadata": {
        "id": "oZG6jTvrk4S2"
      }
    },
    {
      "cell_type": "code",
      "source": [
        "p0 = [0 for i in range(16)] # Stores P(Wi|0) = 1\n",
        "p1 = [0 for i in range(16)] # Stores P(Wi|1) = 1\n",
        "\n",
        "for x in l0:\n",
        "    for i in range(16):\n",
        "        if x[i] == '1':\n",
        "            p0[i] = p0[i] + 1/len(l0)\n",
        "\n",
        "for x in l1:\n",
        "    for i in range(16):\n",
        "        if x[i] == '1':\n",
        "            p1[i] = p1[i] + 1/len(l1)\n",
        "\n",
        "print(p0)\n",
        "print(p1)"
      ],
      "metadata": {
        "colab": {
          "base_uri": "https://localhost:8080/"
        },
        "id": "X6dCv81OlMR6",
        "outputId": "d5c0f6f2-5c03-4361-cdd7-8eefc2e67da4"
      },
      "execution_count": null,
      "outputs": [
        {
          "output_type": "stream",
          "name": "stdout",
          "text": [
            "[0.2, 0.6, 0.7, 0.2, 0.4, 0.6, 0.5, 0.7, 0.4, 0.6, 0.5, 0.7, 0.2, 0.7, 0.6, 0.30000000000000004]\n",
            "[0.1, 0.4, 0.7, 0.2, 0.1, 0.5, 0.5, 0.2, 0.1, 0.6, 0.6, 0.4, 0.1, 0.30000000000000004, 0.2, 0.1]\n"
          ]
        }
      ]
    },
    {
      "cell_type": "markdown",
      "source": [
        "Plotting P(Wi|0) and P(Wi|1)"
      ],
      "metadata": {
        "id": "SRc9o7zhloUo"
      }
    },
    {
      "cell_type": "code",
      "source": [
        "x = [1,2,3,4,5,6,7,8,9,10,11,12,13,14,15,16]\n",
        "plt.xlabel(\"i value\")\n",
        "plt.xlim(1,16)\n",
        "plt.ylabel(\"P(Wi|0) = 1\")\n",
        "plt.ylim(0,1)\n",
        "plt.plot(x,p0,color='red')\n",
        "plt.show()\n",
        "\n",
        "plt.xlabel(\"i value\")\n",
        "plt.xlim(1,16)\n",
        "plt.ylabel(\"P(Wi|1) = 1\")\n",
        "plt.ylim(0,1)\n",
        "plt.plot(x,p1,color='red')\n",
        "plt.show()"
      ],
      "metadata": {
        "colab": {
          "base_uri": "https://localhost:8080/",
          "height": 549
        },
        "id": "To5tqs1EmjCN",
        "outputId": "8d7c9baa-713e-476e-9697-a85dad25e139"
      },
      "execution_count": null,
      "outputs": [
        {
          "output_type": "display_data",
          "data": {
            "text/plain": [
              "<Figure size 432x288 with 1 Axes>"
            ],
            "image/png": "[encoded data removed]"
          },
          "metadata": {
            "needs_background": "light"
          }
        },
        {
          "output_type": "display_data",
          "data": {
            "text/plain": [
              "<Figure size 432x288 with 1 Axes>"
            ],
            "image/png": "[encoded data removed]"
          },
          "metadata": {
            "needs_background": "light"
          }
        }
      ]
    },
    {
      "cell_type": "markdown",
      "source": [
        "Taking the input (16 binary values)"
      ],
      "metadata": {
        "id": "ze_0VuoFm6Kx"
      }
    },
    {
      "cell_type": "code",
      "source": [
        "y = [] # Stores the input y\n",
        "for i in range(16):\n",
        "    y.append(int(input(\"Enter 0 or 1: \")))"
      ],
      "metadata": {
        "colab": {
          "base_uri": "https://localhost:8080/"
        },
        "id": "GhUzr48Tm536",
        "outputId": "929e4b55-7000-4df7-8b48-ad88a26233b6"
      },
      "execution_count": null,
      "outputs": [
        {
          "name": "stdout",
          "output_type": "stream",
          "text": [
            "Enter 0 or 1: 1\n",
            "Enter 0 or 1: 1\n",
            "Enter 0 or 1: 1\n",
            "Enter 0 or 1: 1\n",
            "Enter 0 or 1: 1\n",
            "Enter 0 or 1: 1\n",
            "Enter 0 or 1: 1\n",
            "Enter 0 or 1: 1\n",
            "Enter 0 or 1: 1\n",
            "Enter 0 or 1: 1\n",
            "Enter 0 or 1: 1\n",
            "Enter 0 or 1: 1\n",
            "Enter 0 or 1: 1\n",
            "Enter 0 or 1: 1\n",
            "Enter 0 or 1: 1\n",
            "Enter 0 or 1: 1\n"
          ]
        }
      ]
    },
    {
      "cell_type": "markdown",
      "source": [
        "Calculating P(Y|0) and P(Y|1)"
      ],
      "metadata": {
        "id": "vJl4aovNomMF"
      }
    },
    {
      "cell_type": "code",
      "source": [
        "py0 = 1 # Stores P(Y|0)\n",
        "py1 = 1 # Stores P(Y|1)\n",
        "#Assumption : All pairs of Wi,Wj are independent of each other\n",
        "for i in range(16):\n",
        "    if y[i] == 1:\n",
        "        py0 = py0*p0[i]\n",
        "        py1 = py1*p1[i]\n",
        "    else:\n",
        "        py0 = py0*(1-p0[i])\n",
        "        py1 = py1*(1-p1[i])"
      ],
      "metadata": {
        "id": "jreDNspFo1Mg"
      },
      "execution_count": null,
      "outputs": []
    },
    {
      "cell_type": "markdown",
      "source": [
        "Here calculating P(0|Y) > P(1|Y) is equivalent to calculating  P(Y|0) > P(Y|1) because P(1) = P(0) (Size of both corpuses are same) and P(W) is common and gets cancelled.\n",
        "\n",
        "Output"
      ],
      "metadata": {
        "id": "TfwrAnHJpNL-"
      }
    },
    {
      "cell_type": "code",
      "source": [
        "#print(py0,py1)\n",
        "if (py0 > py1):\n",
        "    print(\"Image is more likely to be a 0.\")\n",
        "else:\n",
        "    print(\"Image is more likely to be a 1.\")"
      ],
      "metadata": {
        "colab": {
          "base_uri": "https://localhost:8080/"
        },
        "id": "xxdj4bv2pPA_",
        "outputId": "1cb401dc-9fbb-42c0-ca9f-061e510da1b3"
      },
      "execution_count": null,
      "outputs": [
        {
          "output_type": "stream",
          "name": "stdout",
          "text": [
            "Image is more likely to be a 0.\n"
          ]
        }
      ]
    }
  ]
}